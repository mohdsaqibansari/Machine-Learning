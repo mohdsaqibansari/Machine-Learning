{
  "nbformat": 4,
  "nbformat_minor": 0,
  "metadata": {
    "colab": {
      "name": "Multiple Linear Regression From Scratch.ipynb",
      "provenance": [],
      "authorship_tag": "ABX9TyNRwHde1/quH15UmOVt9ibf",
      "include_colab_link": true
    },
    "kernelspec": {
      "name": "python3",
      "display_name": "Python 3"
    },
    "language_info": {
      "name": "python"
    }
  },
  "cells": [
    {
      "cell_type": "markdown",
      "metadata": {
        "id": "view-in-github",
        "colab_type": "text"
      },
      "source": [
        "<a href=\"https://colab.research.google.com/github/mohdsaqibansari/Machine-Learning/blob/main/Multiple_Linear_Regression_From_Scratch.ipynb\" target=\"_parent\"><img src=\"https://colab.research.google.com/assets/colab-badge.svg\" alt=\"Open In Colab\"/></a>"
      ]
    },
    {
      "cell_type": "markdown",
      "source": [
        "# Important Libraries "
      ],
      "metadata": {
        "id": "qhvi-NTqG1rQ"
      }
    },
    {
      "cell_type": "code",
      "execution_count": 1,
      "metadata": {
        "id": "s87FfINa2rjf"
      },
      "outputs": [],
      "source": [
        "import numpy as np\n",
        "import pandas as pd\n",
        "import matplotlib.pyplot as plt\n",
        "import seaborn as sns"
      ]
    },
    {
      "cell_type": "markdown",
      "source": [
        "# Diabetes Dataset is used"
      ],
      "metadata": {
        "id": "K0n8apeaHLMI"
      }
    },
    {
      "cell_type": "code",
      "source": [
        "from sklearn.datasets import load_diabetes"
      ],
      "metadata": {
        "id": "hHX8j7Tf3Dlb"
      },
      "execution_count": 2,
      "outputs": []
    },
    {
      "cell_type": "code",
      "source": [
        "X,Y=load_diabetes(return_X_y=True)"
      ],
      "metadata": {
        "id": "0jTLcXJP3Xxn"
      },
      "execution_count": 3,
      "outputs": []
    },
    {
      "cell_type": "code",
      "source": [
        "X.shape"
      ],
      "metadata": {
        "colab": {
          "base_uri": "https://localhost:8080/"
        },
        "id": "e-rLZEu43gF3",
        "outputId": "5913561e-ff63-40c6-8327-cdfe07281153"
      },
      "execution_count": 4,
      "outputs": [
        {
          "output_type": "execute_result",
          "data": {
            "text/plain": [
              "(442, 10)"
            ]
          },
          "metadata": {},
          "execution_count": 4
        }
      ]
    },
    {
      "cell_type": "code",
      "source": [
        "Y.shape"
      ],
      "metadata": {
        "colab": {
          "base_uri": "https://localhost:8080/"
        },
        "id": "eCqIuH373nsq",
        "outputId": "ac7e3477-4732-4963-ba3c-83a015be359f"
      },
      "execution_count": 5,
      "outputs": [
        {
          "output_type": "execute_result",
          "data": {
            "text/plain": [
              "(442,)"
            ]
          },
          "metadata": {},
          "execution_count": 5
        }
      ]
    },
    {
      "cell_type": "markdown",
      "source": [
        "# Splitting of Data into two parts:\n",
        "# 80% for training and 20% for testing"
      ],
      "metadata": {
        "id": "8I-k7hL8HTU3"
      }
    },
    {
      "cell_type": "code",
      "source": [
        "from sklearn.model_selection import train_test_split\n",
        "xtrain,xtest,ytrain,ytest=train_test_split(X,Y,test_size=0.2,random_state=8)\n"
      ],
      "metadata": {
        "id": "1PFIaE_Z3okL"
      },
      "execution_count": 6,
      "outputs": []
    },
    {
      "cell_type": "markdown",
      "source": [
        "# LinearRegression Model is called here."
      ],
      "metadata": {
        "id": "LZatzBleHidI"
      }
    },
    {
      "cell_type": "code",
      "source": [
        "from sklearn.linear_model import LinearRegression\n",
        "LnrReg=LinearRegression()"
      ],
      "metadata": {
        "id": "GxnedOq838RH"
      },
      "execution_count": 7,
      "outputs": []
    },
    {
      "cell_type": "markdown",
      "source": [
        "# Training"
      ],
      "metadata": {
        "id": "JtOGU59NHo9I"
      }
    },
    {
      "cell_type": "code",
      "source": [
        "LnrReg.fit(xtrain,ytrain)"
      ],
      "metadata": {
        "colab": {
          "base_uri": "https://localhost:8080/"
        },
        "id": "oYvWDZad4JVd",
        "outputId": "5efb909a-6179-4924-981c-bdf93bd9757e"
      },
      "execution_count": 8,
      "outputs": [
        {
          "output_type": "execute_result",
          "data": {
            "text/plain": [
              "LinearRegression()"
            ]
          },
          "metadata": {},
          "execution_count": 8
        }
      ]
    },
    {
      "cell_type": "markdown",
      "source": [
        "# Testing"
      ],
      "metadata": {
        "id": "PsR-GcJ-HuTo"
      }
    },
    {
      "cell_type": "code",
      "source": [
        "ypred=LnrReg.predict(xtest)"
      ],
      "metadata": {
        "id": "BUtURBJt4NC4"
      },
      "execution_count": 9,
      "outputs": []
    },
    {
      "cell_type": "code",
      "source": [
        "from sklearn.metrics import r2_score\n",
        "model_r2_score=r2_score(ypred,ytest)\n",
        "model_r2_score"
      ],
      "metadata": {
        "colab": {
          "base_uri": "https://localhost:8080/"
        },
        "id": "rn8t1upt4Q_X",
        "outputId": "49dfe601-0c47-48c8-8126-993782c13e55"
      },
      "execution_count": 10,
      "outputs": [
        {
          "output_type": "execute_result",
          "data": {
            "text/plain": [
              "0.12136363779567638"
            ]
          },
          "metadata": {},
          "execution_count": 10
        }
      ]
    },
    {
      "cell_type": "markdown",
      "source": [
        "# Code From Scratch"
      ],
      "metadata": {
        "id": "44mvr1yr5UMm"
      }
    },
    {
      "cell_type": "code",
      "source": [
        "class myLr:\n",
        "  def __init__(self):\n",
        "    self.coef=None\n",
        "    self.intercept=None\n",
        "  def fit(self,xtrain,ytrain):\n",
        "    xtrain=np.insert(xtrain,0,1,axis=1)\n",
        "\n",
        "    # Coefficients calculation\n",
        "    beta=np.linalg.inv(np.dot(xtrain.T,xtrain)).dot(xtrain.T).dot(ytrain)\n",
        "    print(beta)\n",
        "    self.intercept=beta[0]\n",
        "    self.coef=beta[1:]\n",
        "    print(self.intercept)\n",
        "    print(self.coef)\n",
        "  def predict(self,xtest):\n",
        "    yprednew=np.dot(xtest,self.coef)+self.intercept\n",
        "    return yprednew\n",
        "    "
      ],
      "metadata": {
        "id": "zgQ0FoXx4cnC"
      },
      "execution_count": 11,
      "outputs": []
    },
    {
      "cell_type": "code",
      "source": [
        "myLnrReg=myLr()"
      ],
      "metadata": {
        "id": "GX4bzDt65Y3l"
      },
      "execution_count": 12,
      "outputs": []
    },
    {
      "cell_type": "code",
      "source": [
        "myLnrReg.fit(xtrain,ytrain)"
      ],
      "metadata": {
        "colab": {
          "base_uri": "https://localhost:8080/"
        },
        "id": "psRpdRlB7CBy",
        "outputId": "1b8e64cc-4a37-4b48-9d0e-4b078ad6fbe2"
      },
      "execution_count": 13,
      "outputs": [
        {
          "output_type": "stream",
          "name": "stdout",
          "text": [
            "[  152.04213861    -2.60535074  -272.68711571   523.43612556\n",
            "   368.89666127 -1049.09545845   627.58806979   183.10748591\n",
            "   243.47479129   754.71404259   106.82423879]\n",
            "152.04213861181685\n",
            "[   -2.60535074  -272.68711571   523.43612556   368.89666127\n",
            " -1049.09545845   627.58806979   183.10748591   243.47479129\n",
            "   754.71404259   106.82423879]\n"
          ]
        }
      ]
    },
    {
      "cell_type": "code",
      "source": [
        "yprednew=myLnrReg.predict(xtest)\n",
        "yprednew"
      ],
      "metadata": {
        "colab": {
          "base_uri": "https://localhost:8080/"
        },
        "id": "90-VDWps7Iuy",
        "outputId": "7adeffbb-9837-4265-bcfa-94c801b70dde"
      },
      "execution_count": 14,
      "outputs": [
        {
          "output_type": "execute_result",
          "data": {
            "text/plain": [
              "array([255.95847461, 147.81048275, 125.37250243,  74.84074022,\n",
              "       180.12453654, 152.3206334 , 193.03690058, 194.58030227,\n",
              "       134.86567506, 145.6598552 , 207.5893209 , 147.50401709,\n",
              "        65.99094154,  63.80757543, 145.93524501, 204.34383374,\n",
              "        75.98190684,  44.28450599, 198.38941231, 166.29213191,\n",
              "       190.97694731, 115.45675398, 185.26322003, 138.4426665 ,\n",
              "       147.5166856 , 208.12239701, 161.56172051, 189.30177038,\n",
              "       109.10004128,  34.44961567, 224.808895  , 183.03039347,\n",
              "       150.40759859, 168.96172178,  59.20237244, 271.3932295 ,\n",
              "        98.71365493, 125.48500007, 162.72078297, 120.12182437,\n",
              "        95.21074884,  45.02891397, 188.1308878 ,  58.61867472,\n",
              "        77.83394214,  98.59104067,  93.79490306, 130.61776296,\n",
              "       260.55472169, 120.5719335 , 156.31794576, 158.18764054,\n",
              "       108.10028798, 133.04993472, 247.50254613, 160.21200088,\n",
              "       127.67076447,  58.49074202, 183.04865602, 120.37026153,\n",
              "       179.09024417, 208.05734234, 223.12198621, 181.23274209,\n",
              "       120.6327968 , 115.42063581, 141.29039182,  99.33014991,\n",
              "       226.19073043,  50.87917899, 172.30708954, 185.6543231 ,\n",
              "       165.19803316, 182.07974705, 144.50678696,  97.59025284,\n",
              "       100.46538656, 287.2011706 , 208.49071267,  57.17860654,\n",
              "       265.92177114, 251.21418242, 118.78844214, 159.11612487,\n",
              "       197.51355631, 163.2874223 , 126.86461974, 238.53592711,\n",
              "       148.83431823])"
            ]
          },
          "metadata": {},
          "execution_count": 14
        }
      ]
    },
    {
      "cell_type": "code",
      "source": [
        "my_r2Score=r2_score(yprednew,ytest)\n",
        "my_r2Score"
      ],
      "metadata": {
        "colab": {
          "base_uri": "https://localhost:8080/"
        },
        "id": "Ba4mBw-s8Job",
        "outputId": "9366e1c8-5a3a-43f8-8db3-305c219fae32"
      },
      "execution_count": 16,
      "outputs": [
        {
          "output_type": "execute_result",
          "data": {
            "text/plain": [
              "0.12136363779567572"
            ]
          },
          "metadata": {},
          "execution_count": 16
        }
      ]
    },
    {
      "cell_type": "markdown",
      "source": [
        "# Comparison of in-built model of Sci-kit Learn with My Model"
      ],
      "metadata": {
        "id": "2exXMgEFH_RR"
      }
    },
    {
      "cell_type": "code",
      "source": [
        "print(\"R2 Score of In-Built Model:\",model_r2_score)"
      ],
      "metadata": {
        "id": "1OEVIyl28w4R",
        "colab": {
          "base_uri": "https://localhost:8080/"
        },
        "outputId": "2f3f8b5d-9a8e-45e2-afbc-92e6feec596c"
      },
      "execution_count": 17,
      "outputs": [
        {
          "output_type": "stream",
          "name": "stdout",
          "text": [
            "R2 Score of In-Built Model: 0.12136363779567638\n"
          ]
        }
      ]
    },
    {
      "cell_type": "code",
      "source": [
        "print(\"R2 Score of My Model:\",my_r2Score)"
      ],
      "metadata": {
        "colab": {
          "base_uri": "https://localhost:8080/"
        },
        "id": "C5SfNaBzI_4e",
        "outputId": "c8591abf-f522-461a-ba87-3894b6d0d14c"
      },
      "execution_count": 19,
      "outputs": [
        {
          "output_type": "stream",
          "name": "stdout",
          "text": [
            "R2 Score of My Model: 0.12136363779567572\n"
          ]
        }
      ]
    },
    {
      "cell_type": "code",
      "source": [
        ""
      ],
      "metadata": {
        "id": "ZYT4oC7cJJNs"
      },
      "execution_count": null,
      "outputs": []
    }
  ]
}